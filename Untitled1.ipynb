{
 "cells": [
  {
   "cell_type": "code",
   "execution_count": 1,
   "id": "ad9ce76f",
   "metadata": {},
   "outputs": [
    {
     "name": "stdout",
     "output_type": "stream",
     "text": [
      "the name of the company is Cars sons ltd\n"
     ]
    }
   ],
   "source": [
    "print('the name of the company is Cars sons ltd')\n"
   ]
  },
  {
   "cell_type": "code",
   "execution_count": 2,
   "id": "51017b1a",
   "metadata": {},
   "outputs": [
    {
     "name": "stdout",
     "output_type": "stream",
     "text": [
      "the year the company was established is 1996\n"
     ]
    }
   ],
   "source": [
    "print('the year the company was established is', 1996)\n"
   ]
  },
  {
   "cell_type": "code",
   "execution_count": 3,
   "id": "098bb5e2",
   "metadata": {},
   "outputs": [
    {
     "name": "stdout",
     "output_type": "stream",
     "text": [
      "MY names is michael and i have 1 year of experience\n"
     ]
    }
   ],
   "source": [
    "print(\"MY names is\",\"michael\",\"and i have\",1,\"year of experience\")"
   ]
  },
  {
   "cell_type": "code",
   "execution_count": 4,
   "id": "9131d677",
   "metadata": {},
   "outputs": [],
   "source": [
    "Company_name = \"Cars Sons Ltd.\"\n"
   ]
  },
  {
   "cell_type": "code",
   "execution_count": 6,
   "id": "fd385b30",
   "metadata": {},
   "outputs": [
    {
     "name": "stdout",
     "output_type": "stream",
     "text": [
      "the name of the company is Cars Sons Ltd.\n"
     ]
    }
   ],
   "source": [
    "print('the name of the company is',Company_name)\n"
   ]
  },
  {
   "cell_type": "code",
   "execution_count": 7,
   "id": "ed56de6b",
   "metadata": {},
   "outputs": [
    {
     "name": "stdout",
     "output_type": "stream",
     "text": [
      "the year the company established is 1996\n"
     ]
    }
   ],
   "source": [
    "Year_started=1996\n",
    "print('the year the company established is',Year_started)"
   ]
  },
  {
   "cell_type": "code",
   "execution_count": 9,
   "id": "46c0a63a",
   "metadata": {},
   "outputs": [
    {
     "name": "stdout",
     "output_type": "stream",
     "text": [
      "total turnover for the company is 12.5\n"
     ]
    }
   ],
   "source": [
    "total_turnover=12.5\n",
    "print('total turnover for the company is',total_turnover)"
   ]
  },
  {
   "cell_type": "code",
   "execution_count": 14,
   "id": "390f5acc",
   "metadata": {},
   "outputs": [
    {
     "name": "stdout",
     "output_type": "stream",
     "text": [
      "what is the type for all the previous variables (<class 'float'>, <class 'str'>, <class 'int'>)\n"
     ]
    }
   ],
   "source": [
    "types=type(total_turnover), type(Company_name), type(Year_started)\n",
    "print('what is the type for all the previous variables',types)\n",
    "\n",
    "\n",
    "\n"
   ]
  },
  {
   "cell_type": "code",
   "execution_count": 21,
   "id": "e3b0025f",
   "metadata": {},
   "outputs": [
    {
     "name": "stdout",
     "output_type": "stream",
     "text": [
      "price of car =  0.2\n",
      "price of car after tax = 2.0\n"
     ]
    }
   ],
   "source": [
    "price_of_car = 0.2\n",
    "print('price of car = ',price_of_car)\n",
    "price_final= 0.2*10\n",
    "print(\"price of car after tax =\",price_final)"
   ]
  },
  {
   "cell_type": "code",
   "execution_count": 25,
   "id": "980d6a5e",
   "metadata": {},
   "outputs": [
    {
     "name": "stdout",
     "output_type": "stream",
     "text": [
      "average downtime = 0.125\n"
     ]
    }
   ],
   "source": [
    "downtime= 30\n",
    "total_time=240\n",
    "average_downtime=(downtime/total_time)\n",
    "print('average downtime =',average_downtime)"
   ]
  },
  {
   "cell_type": "code",
   "execution_count": 29,
   "id": "82361144",
   "metadata": {},
   "outputs": [
    {
     "name": "stdout",
     "output_type": "stream",
     "text": [
      "safety incident per employee for the company = 0.027\n"
     ]
    }
   ],
   "source": [
    "safety_incident= 4.3\n",
    "total_employes= 156.5 \n",
    "safety_incident_per_employee= round(safety_incident/total_employes,3)\n",
    "print('safety incident per employee for the company =',safety_incident_per_employee)\n"
   ]
  },
  {
   "cell_type": "code",
   "execution_count": 42,
   "id": "9f6e53b2",
   "metadata": {},
   "outputs": [
    {
     "name": "stdout",
     "output_type": "stream",
     "text": [
      "cars : ['lambo,suv,sedan']\n",
      "car type and price are ['lambo,suv,sedan'] [2, 3, 5]\n"
     ]
    },
    {
     "data": {
      "text/plain": [
       "['lambo,suv,sedan']"
      ]
     },
     "execution_count": 42,
     "metadata": {},
     "output_type": "execute_result"
    }
   ],
   "source": [
    "car_type1='sedan'\n",
    "car_type2='lambo'\n",
    "car_type3='suv'\n",
    "car_type= ['lambo','suv','lambo']\n",
    "print('cars :',car_type);\n",
    "price_cars=[2,3,5]\n",
    "print('car type and price are',car_type , price_cars)\n",
    "car_type"
   ]
  },
  {
   "cell_type": "code",
   "execution_count": 38,
   "id": "6b5671ec",
   "metadata": {},
   "outputs": [
    {
     "ename": "IndexError",
     "evalue": "list assignment index out of range",
     "output_type": "error",
     "traceback": [
      "\u001b[1;31m---------------------------------------------------------------------------\u001b[0m",
      "\u001b[1;31mIndexError\u001b[0m                                Traceback (most recent call last)",
      "Cell \u001b[1;32mIn[38], line 1\u001b[0m\n\u001b[1;32m----> 1\u001b[0m price_cars[\u001b[38;5;241m3\u001b[39m]\u001b[38;5;241m=\u001b[39m \u001b[38;5;241m9\u001b[39m\n",
      "\u001b[1;31mIndexError\u001b[0m: list assignment index out of range"
     ]
    }
   ],
   "source": [
    "price_cars[3]= 9"
   ]
  },
  {
   "cell_type": "code",
   "execution_count": 52,
   "id": "2ec79176",
   "metadata": {},
   "outputs": [
    {
     "data": {
      "text/plain": [
       "3"
      ]
     },
     "execution_count": 52,
     "metadata": {},
     "output_type": "execute_result"
    }
   ],
   "source": [
    "\n",
    "len(price_cars)\n",
    "\n"
   ]
  },
  {
   "cell_type": "code",
   "execution_count": 60,
   "id": "cee0f790",
   "metadata": {},
   "outputs": [
    {
     "name": "stdout",
     "output_type": "stream",
     "text": [
      "[1, 2, 4, 5, 6]\n"
     ]
    }
   ],
   "source": [
    "numbers=[1,2,3,4,5]\n",
    "numbers.append(6)\n",
    "numbers.remove(3)\n",
    "print(numbers)\n"
   ]
  },
  {
   "cell_type": "code",
   "execution_count": null,
   "id": "1e2c8929",
   "metadata": {},
   "outputs": [],
   "source": [
    "sitting.count"
   ]
  }
 ],
 "metadata": {
  "kernelspec": {
   "display_name": "Python 3 (ipykernel)",
   "language": "python",
   "name": "python3"
  },
  "language_info": {
   "codemirror_mode": {
    "name": "ipython",
    "version": 3
   },
   "file_extension": ".py",
   "mimetype": "text/x-python",
   "name": "python",
   "nbconvert_exporter": "python",
   "pygments_lexer": "ipython3",
   "version": "3.10.9"
  }
 },
 "nbformat": 4,
 "nbformat_minor": 5
}
